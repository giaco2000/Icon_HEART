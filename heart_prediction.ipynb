{
 "cells": [
  {
   "attachments": {},
   "cell_type": "markdown",
   "metadata": {},
   "source": [
    "Librerie"
   ]
  },
  {
   "cell_type": "code",
   "execution_count": null,
   "metadata": {},
   "outputs": [],
   "source": [
    "import pandas as pd\n",
    "import numpy as np\n",
    "import matplotlib.pyplot as plt\n",
    "import plotly.express as px\n",
    "from plotly.subplots import make_subplots\n",
    "import plotly.graph_objects as go\n",
    "import seaborn as sns\n",
    "\n",
    "from imblearn.over_sampling import SMOTE\n",
    "\n",
    "from sklearn.preprocessing import StandardScaler\n",
    "from sklearn.feature_selection import SelectKBest, f_classif, chi2\n",
    "from sklearn.model_selection import train_test_split, GridSearchCV, cross_val_score\n",
    "from sklearn.ensemble import RandomForestClassifier\n",
    "from sklearn.tree import DecisionTreeClassifier\n",
    "from sklearn.linear_model import LogisticRegression\n",
    "from sklearn.neighbors import KNeighborsClassifier\n",
    "from sklearn.neural_network import MLPClassifier\n",
    "from sklearn.cluster import KMeans\n",
    "from sklearn.metrics import roc_curve, roc_auc_score, plot_confusion_matrix\n",
    "from sklearn.metrics import accuracy_score, classification_report, zero_one_loss\n",
    "from sklearn import metrics"
   ]
  },
  {
   "attachments": {},
   "cell_type": "markdown",
   "metadata": {},
   "source": [
    "Caricamento DataSet"
   ]
  },
  {
   "cell_type": "code",
   "execution_count": null,
   "metadata": {},
   "outputs": [],
   "source": [
    "data = pd.read_csv('C:/Users/giaco/Desktop/Icon_HEART/heart.csv')\n",
    "data.head()"
   ]
  },
  {
   "cell_type": "code",
   "execution_count": null,
   "metadata": {},
   "outputs": [],
   "source": [
    "data.describe()"
   ]
  },
  {
   "cell_type": "code",
   "execution_count": null,
   "metadata": {},
   "outputs": [],
   "source": [
    "#check if there are outliers in the features\n",
    "\n",
    "# Boxplot for age\n",
    "sns.boxplot(x=data.age, color = 'red')\n",
    "plt.show()\n",
    "\n",
    "# Boxplot for creatinine_phosphokinase\n",
    "sns.boxplot(x=data.creatinine_phosphokinase, color = 'red')\n",
    "plt.show()\n",
    "\n",
    "# Boxplot for ejection_fraction\n",
    "sns.boxplot(x=data.ejection_fraction, color = 'red')\n",
    "plt.show()\n",
    "\n",
    "# Boxplot for platelets\n",
    "sns.boxplot(x=data.platelets, color = 'red')\n",
    "plt.show()\n",
    "\n",
    "# Boxplot for serum_creatinine\n",
    "sns.boxplot(x=data.serum_creatinine, color = 'red')\n",
    "plt.show()\n",
    "\n",
    "# Boxplot for serum_sodium\n",
    "sns.boxplot(x=data.serum_sodium, color = 'red')\n",
    "plt.show()\n",
    "\n",
    "# Boxplot for time\n",
    "sns.boxplot(x=data.time, color = 'red')\n",
    "plt.show()\n",
    "\n",
    "\n",
    "\n",
    "# Nessun valore anomalo per età e tempo.\n",
    "# Tuttavia, prima di occuparci dei valori anomali, \n",
    "# è necessaria la conoscenza dei valori anomali, del set di dati e possibilmente di alcune conoscenze di dominio.\n",
    "# La rimozione dei valori anomali senza una buona ragione non aumenterà sempre la precisione. \n",
    "# Senza una profonda comprensione di quali sono i possibili intervalli che esistono all'interno di ciascuna funzionalità, \n",
    "# la rimozione dei valori anomali diventa difficile."
   ]
  },
  {
   "attachments": {},
   "cell_type": "markdown",
   "metadata": {},
   "source": [
    "Analisi dei Dati"
   ]
  },
  {
   "cell_type": "code",
   "execution_count": null,
   "metadata": {},
   "outputs": [],
   "source": [
    "fig_age = go.Figure()\n",
    "\n",
    "fig_age.add_trace(go.Histogram(x=data['age'],\n",
    "                               marker_color='#6a6fff'))\n",
    "fig_age.update_layout(\n",
    "    title_text='Distribuzione per età',\n",
    "    xaxis_title_text='Age',\n",
    "    yaxis_title_text='Count', \n",
    "    bargap=0.05, \n",
    "    template = 'plotly_dark',\n",
    "    width=750, \n",
    "    height=600\n",
    ")\n",
    "fig_age.show()"
   ]
  },
  {
   "attachments": {},
   "cell_type": "markdown",
   "metadata": {},
   "source": [
    "Anemia"
   ]
  },
  {
   "cell_type": "code",
   "execution_count": null,
   "metadata": {},
   "outputs": [],
   "source": [
    "normal = data[data['anaemia']==0]\n",
    "\n",
    "anemia = data[data['anaemia']==1]"
   ]
  },
  {
   "cell_type": "code",
   "execution_count": null,
   "metadata": {},
   "outputs": [],
   "source": [
    "# L'anemia, o un basso livello di emoglobina nel sangue, \n",
    "# è spesso collegata a malattie cardiache \n",
    "# perché il cuore deve lavorare di più per pompare più sangue e ossigeno attraverso il corpo.\n",
    "\n",
    "colors= ['#7eff5e', '#ff5e79']\n",
    "\n",
    "labels = ['Normale', 'Anemia']\n",
    "\n",
    "values = [len(normal[normal['DEATH_EVENT'] == 1]), \n",
    "          len(anemia[anemia['DEATH_EVENT'] == 1])]\n",
    "\n",
    "fig_anemia = go.Figure()\n",
    "\n",
    "fig_anemia.add_trace(go.Pie(labels=labels, values=values,\n",
    "                            hole=.4, marker_colors=colors))\n",
    "\n",
    "fig_anemia.update_layout(\n",
    "    title_text='Numero Totale di Decessi - Anemia',\n",
    "    template = 'plotly_dark',\n",
    "    width=750, \n",
    "    height=600\n",
    ")\n",
    "fig_anemia.show()"
   ]
  },
  {
   "attachments": {},
   "cell_type": "markdown",
   "metadata": {},
   "source": [
    "Creatinina fosfochinasi"
   ]
  },
  {
   "cell_type": "code",
   "execution_count": null,
   "metadata": {},
   "outputs": [],
   "source": [
    "normal_cpk_level = data[(data['creatinine_phosphokinase'] >= 10) & \n",
    "                        (data['creatinine_phosphokinase'] <= 120)]\n",
    "\n",
    "abnormal_cpk_level = data[(data['creatinine_phosphokinase'] < 10) | \n",
    "                          (data['creatinine_phosphokinase'] > 120)]"
   ]
  },
  {
   "cell_type": "code",
   "execution_count": null,
   "metadata": {},
   "outputs": [],
   "source": [
    "fig_creatinine = go.Figure()\n",
    "\n",
    "fig_creatinine.add_trace(go.Histogram(x=data['creatinine_phosphokinase'],\n",
    "                                      marker_color='#6a6fff'))\n",
    "\n",
    "fig_creatinine.update_layout(\n",
    "    title_text='Distribuzione della creatinina fosfochinasi',\n",
    "    xaxis_title_text='Creatinina Fosfochinasi',\n",
    "    yaxis_title_text='Count', \n",
    "    bargap=0.05, \n",
    "    template = 'plotly_dark',\n",
    "    width=750, \n",
    "    height=600\n",
    ")\n",
    "fig_creatinine.show()"
   ]
  },
  {
   "cell_type": "code",
   "execution_count": null,
   "metadata": {},
   "outputs": [],
   "source": [
    "colors = ['#7eff5e', '#ff5e79']\n",
    "\n",
    "labels = ['Livelli Normali di CPK', 'Livelli Anomali di CPK']\n",
    "\n",
    "values = [len(normal_cpk_level[normal_cpk_level['DEATH_EVENT'] == 1]),\n",
    "          len(abnormal_cpk_level[abnormal_cpk_level['DEATH_EVENT'] == 1])]\n",
    "\n",
    "fig_creatinine = go.Figure()\n",
    "\n",
    "fig_creatinine.add_trace(go.Pie(labels=labels, values=values, \n",
    "                                hole=.4, marker_colors=colors))\n",
    "\n",
    "fig_creatinine.update_layout(\n",
    "    title_text='Numero totale di decessi - CPK',\n",
    "    template = 'plotly_dark',\n",
    "    width=750, \n",
    "    height=600\n",
    ")"
   ]
  },
  {
   "attachments": {},
   "cell_type": "markdown",
   "metadata": {},
   "source": [
    "Diabete"
   ]
  },
  {
   "cell_type": "code",
   "execution_count": null,
   "metadata": {},
   "outputs": [],
   "source": [
    "normal = data[data['diabetes']==0]\n",
    "\n",
    "diabetes = data[data['diabetes']==1]"
   ]
  },
  {
   "cell_type": "code",
   "execution_count": null,
   "metadata": {},
   "outputs": [],
   "source": [
    "colors = ['#7eff5e', '#ff5e79']\n",
    "\n",
    "labels = ['Normale', 'Diabete']\n",
    "\n",
    "values = [len(normal[normal['DEATH_EVENT'] == 1]), \n",
    "          len(diabetes[diabetes['DEATH_EVENT'] == 1])]\n",
    "\n",
    "fig_diabetes = go.Figure()\n",
    "\n",
    "fig_diabetes.add_trace(go.Pie(labels=labels, values=values,\n",
    "                              hole=.4, marker_colors=colors))\n",
    "\n",
    "fig_diabetes.update_layout(\n",
    "    title_text='Numero totale di decessi - Diabete',\n",
    "    bargap=0.05, \n",
    "    template = 'plotly_dark',\n",
    "    width=750, height=600)"
   ]
  },
  {
   "attachments": {},
   "cell_type": "markdown",
   "metadata": {},
   "source": [
    "Frazione di eiezione"
   ]
  },
  {
   "cell_type": "code",
   "execution_count": null,
   "metadata": {},
   "outputs": [],
   "source": [
    "normal_ejection_fract = data[data['ejection_fraction'] >= 55]\n",
    "\n",
    "reduced_ejection_fract = data[data['ejection_fraction'] <= 50]\n",
    "\n",
    "borderline_ejection_fract = data[(data['ejection_fraction'] < 55) & \n",
    "                                 (data['ejection_fraction'] > 50)]"
   ]
  },
  {
   "cell_type": "code",
   "execution_count": null,
   "metadata": {},
   "outputs": [],
   "source": [
    "fig_eject_fract = go.Figure()\n",
    "\n",
    "fig_eject_fract.add_trace(go.Histogram(x=data['ejection_fraction'],\n",
    "                                      marker_color='#6a6fff'))\n",
    "\n",
    "fig_eject_fract.update_layout(\n",
    "    title_text='Distribuzione della frazione di eiezione',\n",
    "    xaxis_title_text='Frazione di eiezione',\n",
    "    yaxis_title_text='Count', \n",
    "    bargap=0.05, \n",
    "    template = 'plotly_dark',\n",
    "    width=750, height=600\n",
    ")\n",
    "fig_eject_fract.show()"
   ]
  },
  {
   "cell_type": "code",
   "execution_count": null,
   "metadata": {},
   "outputs": [],
   "source": [
    "colors = ['#7eff5e', '#ff5e79', '#fddb3a']\n",
    "\n",
    "labels = ['Normale Frazione di Eiezione', 'Frazione di eiezione ridotta', \n",
    "          'Frazione di eiezione borderline']\n",
    "\n",
    "values = [len(normal_ejection_fract[normal_ejection_fract['DEATH_EVENT']==1]),\n",
    "          len(reduced_ejection_fract[reduced_ejection_fract['DEATH_EVENT']==1]),\n",
    "          len(borderline_ejection_fract[borderline_ejection_fract['DEATH_EVENT']==1])]\n",
    "\n",
    "fig_eject_fract = go.Figure()\n",
    "\n",
    "fig_eject_fract.add_trace(go.Pie(labels=labels, values=values,\n",
    "                         hole=.4, marker_colors=colors))\n",
    "\n",
    "fig_eject_fract.update_layout(\n",
    "    title_text='Numero totale di decessi - Frazione di Eiezione',\n",
    "    template = 'plotly_dark',\n",
    "    width=750, \n",
    "    height=600\n",
    ")"
   ]
  },
  {
   "attachments": {},
   "cell_type": "markdown",
   "metadata": {},
   "source": [
    "Alta pressione sanguigna"
   ]
  },
  {
   "cell_type": "code",
   "execution_count": null,
   "metadata": {},
   "outputs": [],
   "source": [
    "normal_blood_pressure = data[data['high_blood_pressure'] == 0]\n",
    "\n",
    "high_blood_pressure = data[data['high_blood_pressure'] == 1]"
   ]
  },
  {
   "cell_type": "code",
   "execution_count": null,
   "metadata": {},
   "outputs": [],
   "source": [
    "color = ['#7eff5e', '#ff5e79']\n",
    "\n",
    "labels = ['Pressione Sanguigna Normale', 'Pressione Sanguigna Alta']\n",
    "\n",
    "values = [len(normal_blood_pressure[normal_blood_pressure['DEATH_EVENT'] == 1]), \n",
    "          len(high_blood_pressure[high_blood_pressure['DEATH_EVENT'] == 1])]\n",
    "\n",
    "fig_pressure = go.Figure()\n",
    "\n",
    "fig_pressure.add_trace(go.Pie(labels=labels, values=values,\n",
    "                             hole=.4, marker_colors=colors))\n",
    "\n",
    "fig_pressure.update_layout(\n",
    "    title_text='Numero Totale di Decessi - Pressione Sanguigna',\n",
    "    bargap=0.05, \n",
    "    template = 'plotly_dark',\n",
    "    width=750, \n",
    "    height=600\n",
    ")"
   ]
  },
  {
   "attachments": {},
   "cell_type": "markdown",
   "metadata": {},
   "source": [
    "Piastrine"
   ]
  },
  {
   "cell_type": "code",
   "execution_count": null,
   "metadata": {},
   "outputs": [],
   "source": [
    "normal_platelets_level = data[(data['platelets'] >= 150000) & (data['platelets'] <= 450000)]\n",
    "\n",
    "abnormal_platelets_level = data[(data['platelets'] < 150000) | (data['platelets'] > 450000)]"
   ]
  },
  {
   "cell_type": "code",
   "execution_count": null,
   "metadata": {},
   "outputs": [],
   "source": [
    "fig_platelets = go.Figure()\n",
    "\n",
    "fig_platelets.add_trace(go.Histogram(x=data['platelets'], \n",
    "                                      marker_color='#6a6fff'))\n",
    "\n",
    "fig_platelets.update_layout(\n",
    "    title_text='Distribuzione delle Piastrine',\n",
    "    xaxis_title_text='Piastrine',\n",
    "    yaxis_title_text='Count', \n",
    "    bargap=0.05, \n",
    "    template = 'plotly_dark',\n",
    "    width=750, height=600\n",
    ")\n",
    "fig_platelets.show()"
   ]
  },
  {
   "cell_type": "code",
   "execution_count": null,
   "metadata": {},
   "outputs": [],
   "source": [
    "colors = ['#7eff5e', '#ff5e79']\n",
    "\n",
    "labels = ['Livello Nomrale di Piastrine', 'Livello Anomalo di Piastrine']\n",
    "\n",
    "values = [len(normal_platelets_level[normal_platelets_level['DEATH_EVENT']==1]),\n",
    "          len(abnormal_platelets_level[abnormal_platelets_level['DEATH_EVENT']==1])]\n",
    "\n",
    "fig_platelets = go.Figure()\n",
    "\n",
    "fig_platelets.add_trace(go.Pie(labels=labels, values=values, \n",
    "                         hole=.4, marker_colors=colors))\n",
    "\n",
    "fig_platelets.update_layout(\n",
    "    title_text='Numero Totale di Decessi - Piastrine',\n",
    "    template = 'plotly_dark',\n",
    "    width=750, \n",
    "    height=600\n",
    ")\n",
    "\n",
    "fig_platelets.show()"
   ]
  },
  {
   "attachments": {},
   "cell_type": "markdown",
   "metadata": {},
   "source": [
    "Creatinina Sierica"
   ]
  },
  {
   "cell_type": "code",
   "execution_count": null,
   "metadata": {},
   "outputs": [],
   "source": [
    "normal_range_creatinine = data[(data['serum_creatinine'] >= 0.7) & (data['serum_creatinine'] <= 1.2)]\n",
    "\n",
    "out_range_creatinine = data[(data['serum_creatinine'] < 0.7) | (data['serum_creatinine'] > 1.2)]"
   ]
  },
  {
   "cell_type": "code",
   "execution_count": null,
   "metadata": {},
   "outputs": [],
   "source": [
    "fig_creatinine = go.Figure()\n",
    "\n",
    "fig_creatinine.add_trace(go.Histogram(x=data['serum_creatinine'], \n",
    "                                      marker_color='#6a6fff'))\n",
    "\n",
    "fig_creatinine.update_layout(\n",
    "    title_text='Distribuzione della Creatinina Sierica',\n",
    "    xaxis_title_text='Creatinina Sierica',\n",
    "    yaxis_title_text='Count', \n",
    "    bargap=0.05, \n",
    "    template = 'plotly_dark',\n",
    "    width=750, height=600\n",
    ")\n",
    "fig_creatinine.show()"
   ]
  },
  {
   "cell_type": "code",
   "execution_count": null,
   "metadata": {},
   "outputs": [],
   "source": [
    "colors = ['#7eff5e', '#ff5e79']\n",
    "\n",
    "labels = ['Livelli Normali di Creatinina', 'Livelli Anomali di Creatinina']\n",
    "\n",
    "values = [len(normal_range_creatinine[normal_range_creatinine['DEATH_EVENT']==1]),\n",
    "          len(out_range_creatinine[out_range_creatinine['DEATH_EVENT']==1])]\n",
    "\n",
    "fig_creatinine = go.Figure()\n",
    "\n",
    "fig_creatinine.add_trace(go.Pie(labels=labels, values=values, \n",
    "                         hole=.4, marker_colors=colors))\n",
    "\n",
    "fig_creatinine.update_layout(\n",
    "    title_text='Numero totale di decessi - Creatinina sierica',\n",
    "    template = 'plotly_dark',\n",
    "    width=750, \n",
    "    height=600\n",
    ")\n",
    "fig_creatinine.show()"
   ]
  },
  {
   "attachments": {},
   "cell_type": "markdown",
   "metadata": {},
   "source": [
    "Siero di Sodio"
   ]
  },
  {
   "cell_type": "code",
   "execution_count": null,
   "metadata": {},
   "outputs": [],
   "source": [
    "normal_sodium_level = data[(data['serum_sodium'] >= 135) & (data['serum_sodium'] <= 145)]\n",
    "abnormal_sodium_level = data[(data['serum_sodium'] < 135) | (data['serum_sodium'] > 145)]"
   ]
  },
  {
   "cell_type": "code",
   "execution_count": null,
   "metadata": {},
   "outputs": [],
   "source": [
    "fig_sodium = go.Figure()\n",
    "\n",
    "fig_sodium.add_trace(go.Histogram(x=data['serum_sodium'], \n",
    "                                  marker_color='#6a6fff'))\n",
    "fig_sodium.update_layout(\n",
    "    title_text='Distribuzione Siero di Sodio',\n",
    "    xaxis_title_text='Siero di Sodio',\n",
    "    yaxis_title_text='Count', \n",
    "    bargap=0.05, \n",
    "    template = 'plotly_dark',\n",
    "    width=750, height=600\n",
    ")\n",
    "fig_sodium.show()"
   ]
  },
  {
   "cell_type": "code",
   "execution_count": null,
   "metadata": {},
   "outputs": [],
   "source": [
    "colors = ['#7eff5e', '#ff5e79']\n",
    "\n",
    "labels = ['Livello normale di serio di sodio', 'Livello anomalo di serio di sodio']\n",
    "\n",
    "values = [len(normal_sodium_level[normal_sodium_level['DEATH_EVENT']==1]),\n",
    "          len(abnormal_sodium_level[abnormal_sodium_level['DEATH_EVENT']==1])]\n",
    "\n",
    "fig_sodium = go.Figure()\n",
    "\n",
    "fig_sodium.add_trace(go.Pie(labels=labels, values=values, \n",
    "                         hole=.4, marker_colors=colors))\n",
    "\n",
    "fig_sodium.update_layout(\n",
    "    title_text='Numero totale di decessi - Siero di Sodio',\n",
    "    template = 'plotly_dark',\n",
    "    width=750, \n",
    "    height=600\n",
    ")\n",
    "\n",
    "fig_sodium.show()"
   ]
  },
  {
   "attachments": {},
   "cell_type": "markdown",
   "metadata": {},
   "source": [
    "Sesso"
   ]
  },
  {
   "cell_type": "code",
   "execution_count": null,
   "metadata": {},
   "outputs": [],
   "source": [
    "colors = ['#013766', '#bc4558']\n",
    "\n",
    "labels = ['Maschi', 'Femmine']\n",
    "\n",
    "values = [len(data[(data['DEATH_EVENT'] == 1) & (data['sex'] == 1)]), \n",
    "          len(data[(data['DEATH_EVENT'] == 1) & (data['sex'] == 0)])]\n",
    "\n",
    "fig_sex = go.Figure()\n",
    "\n",
    "fig_sex.add_trace(go.Pie(labels=labels, values=values, \n",
    "                         hole=.4, marker_colors=colors))\n",
    "\n",
    "fig_sex.update_layout(\n",
    "    title_text='Numero totale di decessi - Sesso',\n",
    "    template = 'plotly_dark',\n",
    "    width=750, \n",
    "    height=600\n",
    ")\n",
    "\n",
    "fig_sex.show()"
   ]
  },
  {
   "attachments": {},
   "cell_type": "markdown",
   "metadata": {},
   "source": [
    "Fumo"
   ]
  },
  {
   "cell_type": "code",
   "execution_count": null,
   "metadata": {},
   "outputs": [],
   "source": [
    "labels = ['Fumatori', 'Non fumatori']\n",
    "\n",
    "values = [len(data[(data['DEATH_EVENT'] == 1) & (data['smoking'] == 1)]), \n",
    "          len(data[(data['DEATH_EVENT'] == 1) & (data['smoking'] == 0)])]\n",
    "\n",
    "fig_smoking = go.Figure()\n",
    "\n",
    "fig_smoking.add_trace(go.Pie(labels=labels, values=values,\n",
    "                            hole=.4))\n",
    "\n",
    "fig_smoking.update_layout(\n",
    "    title_text='Numero totale di decessi - Fumo',\n",
    "    template = 'plotly_dark',\n",
    "    width=750, \n",
    "    height=600\n",
    ")\n",
    "\n",
    "fig_smoking.show()"
   ]
  },
  {
   "attachments": {},
   "cell_type": "markdown",
   "metadata": {},
   "source": [
    "Tempo"
   ]
  },
  {
   "cell_type": "code",
   "execution_count": null,
   "metadata": {},
   "outputs": [],
   "source": [
    "fig_time = go.Figure()\n",
    "\n",
    "fig_time.add_trace(go.Histogram(x=data['time'], \n",
    "                                marker_color='#6a6fff'))\n",
    "\n",
    "fig_time.update_layout(\n",
    "    title_text='Distribuzione del Tempo',\n",
    "    xaxis_title_text='Tempo giorni di follow up',\n",
    "    yaxis_title_text='Count', \n",
    "    bargap=0.05, \n",
    "    template = 'plotly_dark',\n",
    "    width=750, \n",
    "    height=600\n",
    ")\n",
    "fig_time.show()"
   ]
  },
  {
   "attachments": {},
   "cell_type": "markdown",
   "metadata": {},
   "source": [
    "EVENTO DI MORTE (DEATH EVENT)"
   ]
  },
  {
   "cell_type": "code",
   "execution_count": null,
   "metadata": {},
   "outputs": [],
   "source": [
    "survived = data[data['DEATH_EVENT'] == 0]\n",
    "\n",
    "dead = data[data['DEATH_EVENT'] == 1]"
   ]
  },
  {
   "cell_type": "code",
   "execution_count": null,
   "metadata": {},
   "outputs": [],
   "source": [
    "fig_target = go.Figure()\n",
    "\n",
    "fig_target.add_trace(go.Histogram(x=survived['DEATH_EVENT'], \n",
    "                                  name='Sopravvissuto'))\n",
    "\n",
    "fig_target.add_trace(go.Histogram(x=dead['DEATH_EVENT'], \n",
    "                                  name='Non Sopravvissuto'))\n",
    "\n",
    "fig_target.update_layout(\n",
    "    yaxis_title_text='Count', \n",
    "    bargap=0.05, \n",
    "    template = 'plotly_dark',\n",
    "    width=750, \n",
    "    height=600\n",
    ")\n",
    "fig_target.show()"
   ]
  },
  {
   "attachments": {},
   "cell_type": "markdown",
   "metadata": {},
   "source": [
    "Correlazione Feature"
   ]
  },
  {
   "cell_type": "code",
   "execution_count": null,
   "metadata": {},
   "outputs": [],
   "source": [
    "# Checking corelation between numerical features\n",
    "plt.figure(figsize=(8,9))\n",
    "cor =data.corr()\n",
    "sns.heatmap(cor,annot=True,vmax=0.8,cmap='coolwarm',fmt='.2f',linecolor='green',linewidths=0.7,square=True)"
   ]
  },
  {
   "attachments": {},
   "cell_type": "markdown",
   "metadata": {},
   "source": [
    "Preparazione dei dati e Selezione delle feature rilevanti"
   ]
  },
  {
   "cell_type": "code",
   "execution_count": null,
   "metadata": {},
   "outputs": [],
   "source": [
    "numerical_features = ['age', 'creatinine_phosphokinase', 'ejection_fraction',\n",
    "                      'platelets', 'serum_creatinine', 'serum_sodium',\n",
    "                      'time']\n",
    "\n",
    "categorical_features = ['anaemia', 'diabetes', 'high_blood_pressure',\n",
    "                        'sex', 'smoking']\n",
    "\n",
    "numerical_selector = SelectKBest(f_classif, k=4)\n",
    "\n",
    "categorical_selector =  SelectKBest(chi2, k=1)\n",
    "\n",
    "X_numerical = numerical_selector.fit_transform(data[numerical_features], \n",
    "                                                  data['DEATH_EVENT'])\n",
    "\n",
    "X_categorical = categorical_selector.fit_transform(data[categorical_features],\n",
    "                                                    data['DEATH_EVENT'])\n",
    "\n",
    "print('Numerical features selected:', data[numerical_features].columns[numerical_selector.get_support()].to_list())\n",
    "\n",
    "print('Categorical features selected:', data[categorical_features].columns[categorical_selector.get_support()].to_list())"
   ]
  },
  {
   "cell_type": "code",
   "execution_count": null,
   "metadata": {},
   "outputs": [],
   "source": [
    "# definisco le variabili da usare durante l'apprendimento automatico\n",
    "X_selected = data[['age', 'ejection_fraction', 'serum_creatinine', 'time', \n",
    "                   'high_blood_pressure']]\n",
    "\n",
    "y = data['DEATH_EVENT']"
   ]
  },
  {
   "cell_type": "code",
   "execution_count": null,
   "metadata": {},
   "outputs": [],
   "source": [
    "X_train, X_test, y_train, y_test = train_test_split(X_selected, y, \n",
    "                                                    test_size = 0.2, \n",
    "                                                    stratify = y)"
   ]
  },
  {
   "cell_type": "code",
   "execution_count": null,
   "metadata": {},
   "outputs": [],
   "source": [
    "# effettuo la standardizzazione dei dati\n",
    "scaler = StandardScaler()\n",
    "\n",
    "X_train_scaled = scaler.fit_transform(X_train)\n",
    "\n",
    "X_test_scaled = scaler.transform(X_test)"
   ]
  },
  {
   "cell_type": "code",
   "execution_count": null,
   "metadata": {},
   "outputs": [],
   "source": [
    "num_all = np.unique(y, return_counts=True)\n",
    "print('             The number of DEATH_EVENT')\n",
    "print('                   0        |      1')\n",
    "print('------------------------------------------')\n",
    "print('All dataset      ', num_all[1][0], ' '*5, '|', ' '*4, num_all[1][1])\n",
    "num_train = np.unique(y_train, return_counts=True)\n",
    "print('Train set (70%)  ', num_train[1][0], ' '*5, '|', ' '*4, num_train[1][1])\n",
    "num_test = np.unique(y_test, return_counts=True)\n",
    "print('Test set (30%)    ', num_test[1][0], ' '*5, '|', ' '*4, num_test[1][1])"
   ]
  },
  {
   "attachments": {},
   "cell_type": "markdown",
   "metadata": {},
   "source": [
    "        Apprendimento Supervisionato"
   ]
  },
  {
   "cell_type": "code",
   "execution_count": null,
   "metadata": {},
   "outputs": [],
   "source": [
    "#Random Forest\n",
    "rfc = RandomForestClassifier(n_estimators=30, max_depth=8, criterion='gini', random_state=42)\n",
    "rfc.fit(X_train_scaled, y_train)\n",
    "y_pred_rfc = rfc.predict(X_test_scaled)\n",
    "ncv_score_rfc = rfc.score(X_test_scaled, y_test)\n",
    "score_train_rfc = rfc.score(X_train_scaled, y_train)\n",
    "score_rfcl = cross_val_score(rfc, X_train_scaled, y_train, cv=20)\n",
    "rfc_fpr, rfc_tpr, thr = roc_curve(y_test, y_pred_rfc)\n",
    "\n",
    "\n",
    "\n",
    "no_skill = [0 for _ in range(len(y_test))]\n",
    "\n",
    "rfc_probs = rfc.predict_proba(X_test_scaled)\n",
    "\n",
    "rfc_probs = rfc_probs[:, 1]\n",
    "\n",
    "rfc_auc = roc_auc_score(y_test, rfc_probs)\n",
    "\n",
    "print(\"Train score: \", score_train_rfc, \"\\nTest score: \", ncv_score_rfc)\n",
    "print(\"Cross Validated Score: \", score_rfcl.mean())\n",
    "print(\"Standard Deviation: \", score_rfcl.std())\n",
    "print(\"Variance: \", np.var(score_rfcl))\n",
    "print(\"0-1 Loss: \", zero_one_loss(y_test, y_pred_rfc))\n",
    "print(\"Accuracy:\", rfc_auc)\n",
    "print(classification_report(y_test, y_pred_rfc))\n"
   ]
  },
  {
   "cell_type": "code",
   "execution_count": null,
   "metadata": {},
   "outputs": [],
   "source": [
    "plot_confusion_matrix(rfc,X_test_scaled,\n",
    "                              y_test,\n",
    "                              values_format='d',\n",
    "                              display_labels=['Heart Not Failed', 'Heart Fail'])\n",
    "plt.title(\"Random Forest before Opt\")"
   ]
  },
  {
   "cell_type": "code",
   "execution_count": null,
   "metadata": {},
   "outputs": [],
   "source": [
    "# Number of trees in random forest\n",
    "n_estimators = [int(x) for x in np.linspace(start=10, stop=100, num=10)]\n",
    "\n",
    "# Number of features to consider at every split\n",
    "max_features = ['sqrt', 'log2']\n",
    "\n",
    "# Maximum number of levels in tree\n",
    "max_depth = range(1, 10)\n",
    "\n",
    "# measure the quality of a split\n",
    "criterion = ['gini', 'entropy']\n",
    "\n",
    "# Method of selecting samples for training each tree\n",
    "bootstrap = [True, False]\n",
    "# Create the param grid\n",
    "param_grid = {'n_estimators': n_estimators,\n",
    "                  'max_features': max_features,\n",
    "                  'max_depth': max_depth,\n",
    "                  'criterion': criterion,\n",
    "                  'bootstrap': bootstrap}\n",
    "\n",
    "optimal_params = GridSearchCV(RandomForestClassifier(),\n",
    "                                  param_grid,\n",
    "                                  cv=5,  # we are taking 5-fold as in k-fold cross validation\n",
    "                                  scoring='accuracy',  # try the other scoring if have time\n",
    "                                  verbose=0,\n",
    "                                  n_jobs=-1)\n",
    "\n",
    "optimal_params.fit(X_train_scaled, y_train)\n",
    "optimal_params.best_params_"
   ]
  },
  {
   "cell_type": "code",
   "execution_count": null,
   "metadata": {},
   "outputs": [],
   "source": [
    "rfc_opt = RandomForestClassifier(bootstrap=True, criterion='entropy', max_depth=8, max_features='sqrt', n_estimators=70)\n",
    "rfc_opt.fit(X_train_scaled, y_train)\n",
    "y_pred_rfc_opt = rfc_opt.predict(X_test_scaled)\n",
    "ncv_score_rfc_opt = rfc_opt.score(X_test_scaled, y_test)\n",
    "score_train_rfc_opt = rfc_opt.score(X_train_scaled, y_train)\n",
    "score_rfcl_opt = cross_val_score(rfc_opt, X_train_scaled, y_train, cv=20)\n",
    "rfc_opt_fpr, rfc_opt_tpr, thr = roc_curve(y_test, y_pred_rfc_opt)\n",
    "\n",
    "\n",
    "\n",
    "no_skill = [0 for _ in range(len(y_test))]\n",
    "\n",
    "rfc_probs_opt = rfc_opt.predict_proba(X_test_scaled)\n",
    "\n",
    "rfc_probs_opt = rfc_probs_opt[:, 1]\n",
    "\n",
    "rfc_auc_opt = roc_auc_score(y_test, rfc_probs_opt)\n",
    "\n",
    "print(\"Train score: \", score_train_rfc_opt, \"\\nTest score: \", ncv_score_rfc_opt)\n",
    "print(\"Cross Validated Score: \", score_rfcl_opt.mean())\n",
    "print(\"Standard Deviation: \", score_rfcl_opt.std())\n",
    "print(\"Variance: \", np.var(score_rfcl_opt))\n",
    "print(\"0-1 Loss: \", zero_one_loss(y_test, y_pred_rfc_opt))\n",
    "print(\"Accuracy:\", rfc_auc_opt)\n",
    "print(classification_report(y_test, y_pred_rfc_opt))"
   ]
  },
  {
   "cell_type": "code",
   "execution_count": null,
   "metadata": {},
   "outputs": [],
   "source": [
    "plot_confusion_matrix(optimal_params,X_test_scaled,\n",
    "                              y_test,\n",
    "                              values_format='d',\n",
    "                              display_labels=['Heart Not Failed', 'Heart Fail'])\n",
    "plt.title(\"Random Forest after Opt\")"
   ]
  },
  {
   "cell_type": "code",
   "execution_count": null,
   "metadata": {},
   "outputs": [],
   "source": [
    "# Decision Tree\n",
    "dt = DecisionTreeClassifier(criterion='gini')\n",
    "dt.fit(X_train_scaled, y_train)\n",
    "y_pred_dt = dt.predict(X_test_scaled)\n",
    "ncv_score_dt = dt.score(X_test_scaled, y_test)\n",
    "score_train_dt = dt.score(X_train_scaled, y_train)\n",
    "score_dtl = cross_val_score(dt, X_train_scaled, y_train, cv=20)\n",
    "dt_fpr, dt_tpr, thr = roc_curve(y_test, y_pred_dt)\n",
    "\n",
    "\n",
    "\n",
    "no_skill = [0 for _ in range(len(y_test))]\n",
    "\n",
    "dt_probs = dt.predict_proba(X_test_scaled)\n",
    "\n",
    "dt_probs = dt_probs[:, 1]\n",
    "\n",
    "dt_auc = roc_auc_score(y_test, dt_probs)\n",
    "\n",
    "print(\"Train score: \", score_train_dt, \"\\nTest score: \", ncv_score_dt)\n",
    "print(\"Cross Validated Score: \", score_dtl.mean())\n",
    "print(\"Standard Deviation: \", score_dtl.std())\n",
    "print(\"Variance: \", np.var(score_dtl))\n",
    "print(\"0-1 Loss: \", zero_one_loss(y_test, y_pred_dt))\n",
    "print(\"Accuracy:\", dt_auc)\n",
    "print(classification_report(y_test, y_pred_dt))\n",
    "\n"
   ]
  },
  {
   "cell_type": "code",
   "execution_count": null,
   "metadata": {},
   "outputs": [],
   "source": [
    "plot_confusion_matrix(dt,X_test_scaled,\n",
    "                              y_test,\n",
    "                              values_format='d',\n",
    "                              display_labels=['Heart Not Failed', 'Heart Fail'])\n",
    "plt.title(\"Decision Tree before Opt\")"
   ]
  },
  {
   "cell_type": "code",
   "execution_count": null,
   "metadata": {},
   "outputs": [],
   "source": [
    "param_grid_dt = {'criterion': ['gini', 'entropy'],\n",
    "                  'max_depth': range(1, 100)}\n",
    "optimal_params_dt  = GridSearchCV(DecisionTreeClassifier(random_state=42), param_grid_dt, cv=5, refit=True, error_score=0,\n",
    "                          n_jobs =-1, return_train_score=True)\n",
    "\n",
    "optimal_params_dt.fit(X_train_scaled, y_train)\n",
    "optimal_params_dt.best_params_"
   ]
  },
  {
   "cell_type": "code",
   "execution_count": null,
   "metadata": {},
   "outputs": [],
   "source": [
    "dt_opt = DecisionTreeClassifier(criterion='gini', max_depth=1)\n",
    "dt_opt.fit(X_train_scaled, y_train)\n",
    "y_pred_dt_opt = dt_opt.predict(X_test_scaled)\n",
    "ncv_score_dt_opt = dt_opt.score(X_test_scaled, y_test)\n",
    "score_train_dt_opt = dt_opt.score(X_train_scaled, y_train)\n",
    "score_dtl_opt = cross_val_score(dt_opt, X_train_scaled, y_train, cv=20)\n",
    "dt_opt_fpr, dt_opt_tpr, thr = roc_curve(y_test, y_pred_dt_opt)\n",
    "\n",
    "\n",
    "\n",
    "no_skill = [0 for _ in range(len(y_test))]\n",
    "\n",
    "dt_probs_opt = dt_opt.predict_proba(X_test_scaled)\n",
    "\n",
    "dt_probs_opt = dt_probs_opt[:, 1]\n",
    "\n",
    "dt_auc_opt = roc_auc_score(y_test, dt_probs_opt)\n",
    "\n",
    "print(\"Train score: \", score_train_dt_opt, \"\\nTest score: \", ncv_score_dt_opt)\n",
    "print(\"Cross Validated Score: \", score_dtl_opt.mean())\n",
    "print(\"Standard Deviation: \", score_dtl_opt.std())\n",
    "print(\"Variance: \", np.var(score_dtl_opt))\n",
    "print(\"0-1 Loss: \", zero_one_loss(y_test, y_pred_dt_opt))\n",
    "print(\"Accuracy:\", dt_auc_opt)\n",
    "print(classification_report(y_test, y_pred_dt_opt))"
   ]
  },
  {
   "cell_type": "code",
   "execution_count": null,
   "metadata": {},
   "outputs": [],
   "source": [
    "plot_confusion_matrix(optimal_params_dt,X_test_scaled,\n",
    "                              y_test,\n",
    "                              values_format='d',\n",
    "                              display_labels=['Heart Not Failed', 'Heart Fail'])\n",
    "plt.title(\"Decision Tree after Opt\")"
   ]
  },
  {
   "cell_type": "code",
   "execution_count": null,
   "metadata": {},
   "outputs": [],
   "source": [
    "# KNN\n",
    "knn = KNeighborsClassifier(n_neighbors=2)\n",
    "knn.fit(X_train_scaled, y_train)\n",
    "y_pred_knn = knn.predict(X_test_scaled)\n",
    "ncv_score_knn = knn.score(X_test_scaled, y_test)\n",
    "score_train_knn = knn.score(X_train_scaled, y_train)\n",
    "score_knnl = cross_val_score(knn, X_train_scaled, y_train, cv=20)\n",
    "knn_fpr, knn_tpr, thr = roc_curve(y_test, y_pred_knn)\n",
    "\n",
    "\n",
    "\n",
    "no_skill = [0 for _ in range(len(y_test))]\n",
    "\n",
    "knn_probs = knn.predict_proba(X_test_scaled)\n",
    "\n",
    "knn_probs = knn_probs[:, 1]\n",
    "\n",
    "knn_auc = roc_auc_score(y_test, knn_probs)\n",
    "\n",
    "print(\"Train score: \", score_train_knn, \"\\nTest score: \", ncv_score_knn)\n",
    "print(\"Cross Validated Score: \", score_knnl.mean())\n",
    "print(\"Standard Deviation: \", score_knnl.std())\n",
    "print(\"Variance: \", np.var(score_knnl))\n",
    "print(\"0-1 Loss: \", zero_one_loss(y_test, y_pred_knn))\n",
    "print(\"Accuracy:\", knn_auc)\n",
    "print(classification_report(y_test, y_pred_knn))"
   ]
  },
  {
   "cell_type": "code",
   "execution_count": null,
   "metadata": {},
   "outputs": [],
   "source": [
    "plot_confusion_matrix(knn,X_test_scaled,\n",
    "                              y_test,\n",
    "                              values_format='d',\n",
    "                              display_labels=['Heart Not Failed', 'Heart Fail'])\n",
    "plt.title(\"KNN before Opt\")"
   ]
  },
  {
   "cell_type": "code",
   "execution_count": null,
   "metadata": {},
   "outputs": [],
   "source": [
    "param_grid_knn = {'n_neighbors': [5,10,15,30,60,90,120], 'weights': ['uniform','distance'], 'algorithm':['kd_tree','ball_tree','brute'],'p':[1,2]}\n",
    "search_knn = GridSearchCV(KNeighborsClassifier(), param_grid_knn, cv=5, refit=True, error_score=0, n_jobs=-1, return_train_score=True)\n",
    "search_knn.fit(X_train_scaled, y_train)\n",
    "search_knn.best_params_"
   ]
  },
  {
   "cell_type": "code",
   "execution_count": null,
   "metadata": {},
   "outputs": [],
   "source": [
    "knn_opt = KNeighborsClassifier(algorithm='kd_tree', n_neighbors=10, p=1, weights='distance')\n",
    "knn_opt.fit(X_train_scaled, y_train)\n",
    "y_pred_knn_opt = knn_opt.predict(X_test_scaled)\n",
    "ncv_score_knn_opt = knn_opt.score(X_test_scaled, y_test)\n",
    "score_train_knn_opt = knn_opt.score(X_train_scaled, y_train)\n",
    "score_knnl_opt = cross_val_score(knn_opt, X_train_scaled, y_train, cv=20)\n",
    "knn_opt_fpr, knn_opt_tpr, thr = roc_curve(y_test, y_pred_knn_opt)\n",
    "\n",
    "\n",
    "\n",
    "no_skill = [0 for _ in range(len(y_test))]\n",
    "\n",
    "knn_probs_opt = knn_opt.predict_proba(X_test_scaled)\n",
    "\n",
    "knn_probs_opt = knn_probs_opt[:, 1]\n",
    "\n",
    "knn_auc_opt = roc_auc_score(y_test, knn_probs_opt)\n",
    "\n",
    "print(\"Train score: \", score_train_knn_opt, \"\\nTest score: \", ncv_score_knn_opt)\n",
    "print(\"Cross Validated Score: \", score_knnl_opt.mean())\n",
    "print(\"Standard Deviation: \", score_knnl_opt.std())\n",
    "print(\"Variance: \", np.var(score_knnl_opt))\n",
    "print(\"0-1 Loss: \", zero_one_loss(y_test, y_pred_knn_opt))\n",
    "print(\"Accuracy:\", knn_auc_opt)\n",
    "print(classification_report(y_test, y_pred_knn_opt))"
   ]
  },
  {
   "cell_type": "code",
   "execution_count": null,
   "metadata": {},
   "outputs": [],
   "source": [
    "plot_confusion_matrix(search_knn,X_test_scaled,\n",
    "                              y_test,\n",
    "                              values_format='d',\n",
    "                              display_labels=['Heart Not Failed', 'Heart Fail'])\n",
    "plt.title(\"KNN after Opt\")"
   ]
  },
  {
   "cell_type": "code",
   "execution_count": null,
   "metadata": {},
   "outputs": [],
   "source": [
    "# Logistic Regression\n",
    "lr = LogisticRegression(C=1)\n",
    "lr.fit(X_train_scaled, y_train)\n",
    "y_pred_lr = lr.predict(X_test_scaled)\n",
    "ncv_score_lr = lr.score(X_test_scaled, y_test)\n",
    "score_train_lr = lr.score(X_train_scaled, y_train)\n",
    "score_lrl = cross_val_score(lr, X_train_scaled, y_train, cv=20)\n",
    "lr_fpr, lr_tpr, thr = roc_curve(y_test, y_pred_lr)\n",
    "\n",
    "\n",
    "\n",
    "no_skill = [0 for _ in range(len(y_test))]\n",
    "\n",
    "lr_probs = lr.predict_proba(X_test_scaled)\n",
    "\n",
    "lr_probs = lr_probs[:, 1]\n",
    "\n",
    "lr_auc = roc_auc_score(y_test, lr_probs)\n",
    "\n",
    "print(\"Train score: \", score_train_lr, \"\\nTest score: \", ncv_score_lr)\n",
    "print(\"Cross Validated Score: \", score_lrl.mean())\n",
    "print(\"Standard Deviation: \", score_lrl.std())\n",
    "print(\"Variance: \", np.var(score_lrl))\n",
    "print(\"0-1 Loss: \", zero_one_loss(y_test, y_pred_lr))\n",
    "print(\"Accuracy:\", lr_auc)\n",
    "print(classification_report(y_test, y_pred_lr))"
   ]
  },
  {
   "cell_type": "code",
   "execution_count": null,
   "metadata": {},
   "outputs": [],
   "source": [
    "plot_confusion_matrix(lr,X_test_scaled,\n",
    "                              y_test,\n",
    "                              values_format='d',\n",
    "                              display_labels=['Heart Not Failed', 'Heart Fail'])\n",
    "plt.title(\"Logistic Regression before Opt\")"
   ]
  },
  {
   "cell_type": "code",
   "execution_count": null,
   "metadata": {},
   "outputs": [],
   "source": [
    "# Create the param grid\n",
    "param_grid_lr = {'penalty': ['l1', 'l2'],\n",
    "                  'C': [0.001, 0.01, 0.1, 1, 2, 3, 5, 10, 100, 1000]}\n",
    "\n",
    "optimal_params_lr = GridSearchCV(LogisticRegression(),\n",
    "                                  param_grid_lr,\n",
    "                                  cv=5,  # we are taking 5-fold as in k-fold cross validation\n",
    "                                  scoring='accuracy',  # try the other scoring if have time\n",
    "                                  verbose=0,\n",
    "                                  n_jobs=-1)\n",
    "\n",
    "optimal_params_lr.fit(X_train_scaled, y_train)\n",
    "optimal_params_lr.best_params_"
   ]
  },
  {
   "cell_type": "code",
   "execution_count": null,
   "metadata": {},
   "outputs": [],
   "source": [
    "lr_opt = LogisticRegression(C=0.1, penalty='l2')\n",
    "lr_opt.fit(X_train_scaled, y_train)\n",
    "y_pred_lr_opt = lr_opt.predict(X_test_scaled)\n",
    "ncv_score_lr_opt = lr_opt.score(X_test_scaled, y_test)\n",
    "score_train_lr_opt = lr_opt.score(X_train_scaled, y_train)\n",
    "score_lrl_opt = cross_val_score(lr_opt, X_train_scaled, y_train, cv=20)\n",
    "lr_opt_fpr, lr_opt_tpr, thr = roc_curve(y_test, y_pred_lr_opt)\n",
    "\n",
    "\n",
    "\n",
    "no_skill = [0 for _ in range(len(y_test))]\n",
    "\n",
    "lr_probs_opt = lr_opt.predict_proba(X_test_scaled)\n",
    "\n",
    "lr_probs_opt = lr_probs_opt[:, 1]\n",
    "\n",
    "lr_auc_opt = roc_auc_score(y_test, lr_probs_opt)\n",
    "\n",
    "print(\"Train score: \", score_train_lr_opt, \"\\nTest score: \", ncv_score_lr_opt)\n",
    "print(\"Cross Validated Score: \", score_lrl_opt.mean())\n",
    "print(\"Standard Deviation: \", score_lrl_opt.std())\n",
    "print(\"Variance: \", np.var(score_lrl_opt))\n",
    "print(\"0-1 Loss: \", zero_one_loss(y_test, y_pred_lr_opt))\n",
    "print(\"Accuracy:\", lr_auc_opt)\n",
    "print(classification_report(y_test, y_pred_lr_opt))"
   ]
  },
  {
   "cell_type": "code",
   "execution_count": null,
   "metadata": {},
   "outputs": [],
   "source": [
    "plot_confusion_matrix(optimal_params_lr,X_test_scaled,\n",
    "                              y_test,\n",
    "                              values_format='d',\n",
    "                              display_labels=['Heart Not Failed', 'Heart Fail'])\n",
    "                              \n",
    "plt.title(\"Logistic Regression after Opt\")"
   ]
  },
  {
   "cell_type": "code",
   "execution_count": null,
   "metadata": {},
   "outputs": [],
   "source": [
    "# Multi Layer Perceptron\n",
    "mlp = MLPClassifier(activation='tanh')\n",
    "mlp.fit(X_train_scaled, y_train)\n",
    "y_pred_mlp = mlp.predict(X_test_scaled)\n",
    "ncv_score_mlp = mlp.score(X_test_scaled, y_test)\n",
    "score_train_mlp = mlp.score(X_train_scaled, y_train)\n",
    "score_mlpl = cross_val_score(mlp, X_train_scaled, y_train, cv=20)\n",
    "mlp_fpr, mlp_tpr, thr = roc_curve(y_test, y_pred_mlp)\n",
    "\n",
    "\n",
    "no_skill = [0 for _ in range(len(y_test))]\n",
    "\n",
    "\n",
    "mlp_probs = mlp.predict_proba(X_test_scaled)\n",
    "\n",
    "mlp_probs = mlp_probs[:, 1]\n",
    "\n",
    "mlp_auc = roc_auc_score(y_test, mlp_probs)\n",
    "\n",
    "print(\"Train score: \", score_train_mlp, \"\\nTest score: \", ncv_score_mlp)\n",
    "print(\"Cross Validated Score: \", score_mlpl.mean())\n",
    "print(\"Standard Deviation: \", score_mlpl.std())\n",
    "print(\"Variance: \", np.var(score_mlpl))\n",
    "print(\"0-1 Loss: \", zero_one_loss(y_test, y_pred_mlp))\n",
    "print(\"Accuracy:\", mlp_auc)\n",
    "print(classification_report(y_test, y_pred_mlp))\n"
   ]
  },
  {
   "cell_type": "code",
   "execution_count": null,
   "metadata": {},
   "outputs": [],
   "source": [
    "plot_confusion_matrix(mlp,X_test_scaled,\n",
    "                              y_test,\n",
    "                              values_format='d',\n",
    "                              display_labels=['Heart Not Failed', 'Heart Fail'])\n",
    "plt.title(\"MLP before Opt\")"
   ]
  },
  {
   "cell_type": "code",
   "execution_count": null,
   "metadata": {},
   "outputs": [],
   "source": [
    "param_grid_mlp = {'activation': ['relu','logistic','tanh','identity']}\n",
    "search_mlp = GridSearchCV(MLPClassifier(max_iter=200), param_grid_mlp, cv=5, refit=True, error_score=0, n_jobs=-1)\n",
    "search_mlp.fit(X_train_scaled, y_train)\n",
    "search_mlp.best_params_"
   ]
  },
  {
   "cell_type": "code",
   "execution_count": null,
   "metadata": {},
   "outputs": [],
   "source": [
    "mlp_opt = MLPClassifier(activation='relu')\n",
    "mlp_opt.fit(X_train_scaled, y_train)\n",
    "y_pred_mlp_opt = mlp_opt.predict(X_test_scaled)\n",
    "ncv_score_mlp_opt = mlp_opt.score(X_test_scaled, y_test)\n",
    "score_train_mlp_opt = mlp_opt.score(X_train_scaled, y_train)\n",
    "score_mlpl_opt = cross_val_score(mlp_opt, X_train_scaled, y_train, cv=20)\n",
    "mlp_opt_fpr, mlp_opt_tpr, thr = roc_curve(y_test, y_pred_mlp_opt)\n",
    "\n",
    "\n",
    "\n",
    "no_skill = [0 for _ in range(len(y_test))]\n",
    "\n",
    "mlp_probs_opt = mlp_opt.predict_proba(X_test_scaled)\n",
    "\n",
    "mlp_probs_opt = mlp_probs_opt[:, 1]\n",
    "\n",
    "mlp_auc_opt = roc_auc_score(y_test, mlp_probs_opt)\n",
    "\n",
    "print(\"Train score: \", score_train_mlp_opt, \"\\nTest score: \", ncv_score_mlp_opt)\n",
    "print(\"Cross Validated Score: \", score_mlpl_opt.mean())\n",
    "print(\"Standard Deviation: \", score_mlpl_opt.std())\n",
    "print(\"Variance: \", np.var(score_mlpl_opt))\n",
    "print(\"0-1 Loss: \", zero_one_loss(y_test, y_pred_mlp_opt))\n",
    "print(\"Accuracy:\", mlp_auc_opt)\n",
    "print(classification_report(y_test, y_pred_mlp_opt))"
   ]
  },
  {
   "cell_type": "code",
   "execution_count": null,
   "metadata": {},
   "outputs": [],
   "source": [
    "plot_confusion_matrix(search_mlp,X_test_scaled,\n",
    "                              y_test,\n",
    "                              values_format='d',\n",
    "                              display_labels=['Heart Not Failed', 'Heart Fail'])\n",
    "                              \n",
    "plt.title(\"MLP after Opt\")"
   ]
  },
  {
   "attachments": {},
   "cell_type": "markdown",
   "metadata": {},
   "source": [
    "        Apprendimento non Supervisionato"
   ]
  },
  {
   "cell_type": "code",
   "execution_count": null,
   "metadata": {},
   "outputs": [],
   "source": [
    "# K-MEANS\n",
    "losses = []\n",
    "for K in range(1, 15):\n",
    "    kmeans = KMeans(n_clusters=K)\n",
    "    kmeans.fit(X_train, y_train)\n",
    "    losses.append(kmeans.inertia_)\n",
    "    \n",
    "    \n",
    "plt.plot(range(1,15), losses, '-o')\n",
    "plt.xlabel('Number of Clusters')\n",
    "plt.ylabel('Loss')"
   ]
  },
  {
   "cell_type": "code",
   "execution_count": null,
   "metadata": {},
   "outputs": [],
   "source": [
    "\n",
    "kmeans_model = KMeans(n_clusters=3)\n",
    "kmeans_model.fit(X_train_scaled, y_train)\n",
    "y_pred_dct = kmeans_model.predict(X_test_scaled)\n",
    "kms_fpr, kms_tpr, thr = roc_curve(y_test, y_pred_dct)\n",
    "\n",
    "\n",
    "print(classification_report(y_test, y_pred_dct))\n",
    "\n",
    "\n",
    "\n",
    "\n"
   ]
  },
  {
   "cell_type": "code",
   "execution_count": null,
   "metadata": {},
   "outputs": [],
   "source": [
    "plt.figure(figsize=(5, 5), dpi=100)\n",
    "plt.plot(lr_fpr, lr_tpr, marker='.', label='Logistic Regression')\n",
    "plt.plot(rfc_fpr, rfc_tpr, linestyle=':', label='Random Forest')\n",
    "plt.plot(dt_fpr, dt_tpr, linestyle='-.', label='Decision Tree')\n",
    "plt.plot(knn_fpr, knn_tpr, linestyle='-.', label='K-Neighbors')\n",
    "plt.plot(mlp_fpr, mlp_tpr, linestyle='-.', label='Multi Layer Perceptron')\n",
    "plt.plot(kms_fpr, kms_tpr, linestyle='-.', label='K-Means')\n",
    "plt.xlabel('False Positive Rate')\n",
    "plt.ylabel('True Positive Rate')\n",
    "plt.legend()\n",
    "plt.show()\n"
   ]
  },
  {
   "cell_type": "code",
   "execution_count": null,
   "metadata": {},
   "outputs": [],
   "source": [
    "models = [('RFC', rfc_auc), \n",
    "          ('KNN', knn_auc),\n",
    "          ('DT' , dt_auc),\n",
    "          ('LR' , lr_auc),\n",
    "          ('MLP', mlp_auc)]\n",
    "\n",
    "model_comparasion = pd.DataFrame(models, columns=['Model', 'Accuracy Score'])\n",
    "\n",
    "model_comparasion.head()"
   ]
  }
 ],
 "metadata": {
  "kernelspec": {
   "display_name": "Python 3.10.2 64-bit",
   "language": "python",
   "name": "python3"
  },
  "language_info": {
   "codemirror_mode": {
    "name": "ipython",
    "version": 3
   },
   "file_extension": ".py",
   "mimetype": "text/x-python",
   "name": "python",
   "nbconvert_exporter": "python",
   "pygments_lexer": "ipython3",
   "version": "3.10.2"
  },
  "orig_nbformat": 4,
  "vscode": {
   "interpreter": {
    "hash": "173ae74ecd759d33659dc89cc0ace91dba90ddaa088b7a848a7f37d845ddcc5d"
   }
  }
 },
 "nbformat": 4,
 "nbformat_minor": 2
}
